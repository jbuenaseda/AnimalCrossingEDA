{
 "cells": [
  {
   "cell_type": "code",
   "execution_count": 221,
   "metadata": {},
   "outputs": [],
   "source": [
    "import pandas as pd\n",
    "import matplotlib.pyplot as plt\n",
    "from matplotlib import style \n",
    "import numpy as np\n",
    "import seaborn as sns\n",
    "%matplotlib inline\n",
    "\n",
    "from IPython.display import Image"
   ]
  },
  {
   "cell_type": "code",
   "execution_count": 222,
   "metadata": {},
   "outputs": [],
   "source": [
    "#read in the data\n",
    "\n",
    "items = pd.read_csv('items.csv')\n",
    "villagers = pd.read_csv('villagers.csv')"
   ]
  },
  {
   "cell_type": "code",
   "execution_count": 223,
   "metadata": {},
   "outputs": [
    {
     "data": {
      "text/html": [
       "<div>\n",
       "<style scoped>\n",
       "    .dataframe tbody tr th:only-of-type {\n",
       "        vertical-align: middle;\n",
       "    }\n",
       "\n",
       "    .dataframe tbody tr th {\n",
       "        vertical-align: top;\n",
       "    }\n",
       "\n",
       "    .dataframe thead th {\n",
       "        text-align: right;\n",
       "    }\n",
       "</style>\n",
       "<table border=\"1\" class=\"dataframe\">\n",
       "  <thead>\n",
       "    <tr style=\"text-align: right;\">\n",
       "      <th></th>\n",
       "      <th>num_id</th>\n",
       "      <th>id</th>\n",
       "      <th>name</th>\n",
       "      <th>category</th>\n",
       "      <th>orderable</th>\n",
       "      <th>sell_value</th>\n",
       "      <th>sell_currency</th>\n",
       "      <th>buy_value</th>\n",
       "      <th>buy_currency</th>\n",
       "      <th>sources</th>\n",
       "      <th>customizable</th>\n",
       "      <th>recipe</th>\n",
       "      <th>recipe_id</th>\n",
       "      <th>games_id</th>\n",
       "      <th>id_full</th>\n",
       "      <th>image_url</th>\n",
       "    </tr>\n",
       "  </thead>\n",
       "  <tbody>\n",
       "    <tr>\n",
       "      <th>0</th>\n",
       "      <td>12</td>\n",
       "      <td>3d-glasses</td>\n",
       "      <td>3D Glasses</td>\n",
       "      <td>Accessories</td>\n",
       "      <td>NaN</td>\n",
       "      <td>122.0</td>\n",
       "      <td>bells</td>\n",
       "      <td>490.0</td>\n",
       "      <td>bells</td>\n",
       "      <td>NaN</td>\n",
       "      <td>NaN</td>\n",
       "      <td>NaN</td>\n",
       "      <td>NaN</td>\n",
       "      <td>nh</td>\n",
       "      <td>item-3d-glasses</td>\n",
       "      <td>https://villagerdb.com/images/items/full/3d-gl...</td>\n",
       "    </tr>\n",
       "    <tr>\n",
       "      <th>1</th>\n",
       "      <td>14</td>\n",
       "      <td>a-tee</td>\n",
       "      <td>A Tee</td>\n",
       "      <td>Tops</td>\n",
       "      <td>NaN</td>\n",
       "      <td>140.0</td>\n",
       "      <td>bells</td>\n",
       "      <td>560.0</td>\n",
       "      <td>bells</td>\n",
       "      <td>NaN</td>\n",
       "      <td>NaN</td>\n",
       "      <td>NaN</td>\n",
       "      <td>NaN</td>\n",
       "      <td>nh</td>\n",
       "      <td>item-a-tee</td>\n",
       "      <td>https://villagerdb.com/images/items/full/a-tee...</td>\n",
       "    </tr>\n",
       "    <tr>\n",
       "      <th>2</th>\n",
       "      <td>17</td>\n",
       "      <td>abstract-wall</td>\n",
       "      <td>Abstract Wall</td>\n",
       "      <td>Wallpaper</td>\n",
       "      <td>True</td>\n",
       "      <td>390.0</td>\n",
       "      <td>bells</td>\n",
       "      <td>1560.0</td>\n",
       "      <td>bells</td>\n",
       "      <td>Nook's Cranny</td>\n",
       "      <td>NaN</td>\n",
       "      <td>NaN</td>\n",
       "      <td>NaN</td>\n",
       "      <td>nh</td>\n",
       "      <td>NaN</td>\n",
       "      <td>NaN</td>\n",
       "    </tr>\n",
       "  </tbody>\n",
       "</table>\n",
       "</div>"
      ],
      "text/plain": [
       "   num_id             id           name     category orderable  sell_value  \\\n",
       "0      12     3d-glasses     3D Glasses  Accessories       NaN       122.0   \n",
       "1      14          a-tee          A Tee         Tops       NaN       140.0   \n",
       "2      17  abstract-wall  Abstract Wall    Wallpaper      True       390.0   \n",
       "\n",
       "  sell_currency  buy_value buy_currency        sources customizable  recipe  \\\n",
       "0         bells      490.0        bells            NaN          NaN     NaN   \n",
       "1         bells      560.0        bells            NaN          NaN     NaN   \n",
       "2         bells     1560.0        bells  Nook's Cranny          NaN     NaN   \n",
       "\n",
       "  recipe_id games_id          id_full  \\\n",
       "0       NaN       nh  item-3d-glasses   \n",
       "1       NaN       nh       item-a-tee   \n",
       "2       NaN       nh              NaN   \n",
       "\n",
       "                                           image_url  \n",
       "0  https://villagerdb.com/images/items/full/3d-gl...  \n",
       "1  https://villagerdb.com/images/items/full/a-tee...  \n",
       "2                                                NaN  "
      ]
     },
     "execution_count": 223,
     "metadata": {},
     "output_type": "execute_result"
    }
   ],
   "source": [
    "items.head(3)"
   ]
  },
  {
   "cell_type": "code",
   "execution_count": 224,
   "metadata": {},
   "outputs": [
    {
     "data": {
      "text/html": [
       "<div>\n",
       "<style scoped>\n",
       "    .dataframe tbody tr th:only-of-type {\n",
       "        vertical-align: middle;\n",
       "    }\n",
       "\n",
       "    .dataframe tbody tr th {\n",
       "        vertical-align: top;\n",
       "    }\n",
       "\n",
       "    .dataframe thead th {\n",
       "        text-align: right;\n",
       "    }\n",
       "</style>\n",
       "<table border=\"1\" class=\"dataframe\">\n",
       "  <thead>\n",
       "    <tr style=\"text-align: right;\">\n",
       "      <th></th>\n",
       "      <th>row_n</th>\n",
       "      <th>id</th>\n",
       "      <th>name</th>\n",
       "      <th>gender</th>\n",
       "      <th>species</th>\n",
       "      <th>birthday</th>\n",
       "      <th>personality</th>\n",
       "      <th>song</th>\n",
       "      <th>phrase</th>\n",
       "      <th>full_id</th>\n",
       "      <th>url</th>\n",
       "    </tr>\n",
       "  </thead>\n",
       "  <tbody>\n",
       "    <tr>\n",
       "      <th>0</th>\n",
       "      <td>2</td>\n",
       "      <td>admiral</td>\n",
       "      <td>Admiral</td>\n",
       "      <td>male</td>\n",
       "      <td>bird</td>\n",
       "      <td>1-27</td>\n",
       "      <td>cranky</td>\n",
       "      <td>Steep Hill</td>\n",
       "      <td>aye aye</td>\n",
       "      <td>villager-admiral</td>\n",
       "      <td>https://villagerdb.com/images/villagers/thumb/...</td>\n",
       "    </tr>\n",
       "    <tr>\n",
       "      <th>1</th>\n",
       "      <td>3</td>\n",
       "      <td>agent-s</td>\n",
       "      <td>Agent S</td>\n",
       "      <td>female</td>\n",
       "      <td>squirrel</td>\n",
       "      <td>7-2</td>\n",
       "      <td>peppy</td>\n",
       "      <td>DJ K.K.</td>\n",
       "      <td>sidekick</td>\n",
       "      <td>villager-agent-s</td>\n",
       "      <td>https://villagerdb.com/images/villagers/thumb/...</td>\n",
       "    </tr>\n",
       "    <tr>\n",
       "      <th>2</th>\n",
       "      <td>4</td>\n",
       "      <td>agnes</td>\n",
       "      <td>Agnes</td>\n",
       "      <td>female</td>\n",
       "      <td>pig</td>\n",
       "      <td>4-21</td>\n",
       "      <td>uchi</td>\n",
       "      <td>K.K. House</td>\n",
       "      <td>snuffle</td>\n",
       "      <td>villager-agnes</td>\n",
       "      <td>https://villagerdb.com/images/villagers/thumb/...</td>\n",
       "    </tr>\n",
       "  </tbody>\n",
       "</table>\n",
       "</div>"
      ],
      "text/plain": [
       "   row_n       id     name  gender   species birthday personality        song  \\\n",
       "0      2  admiral  Admiral    male      bird     1-27      cranky  Steep Hill   \n",
       "1      3  agent-s  Agent S  female  squirrel      7-2       peppy     DJ K.K.   \n",
       "2      4    agnes    Agnes  female       pig     4-21        uchi  K.K. House   \n",
       "\n",
       "     phrase           full_id  \\\n",
       "0   aye aye  villager-admiral   \n",
       "1  sidekick  villager-agent-s   \n",
       "2   snuffle    villager-agnes   \n",
       "\n",
       "                                                 url  \n",
       "0  https://villagerdb.com/images/villagers/thumb/...  \n",
       "1  https://villagerdb.com/images/villagers/thumb/...  \n",
       "2  https://villagerdb.com/images/villagers/thumb/...  "
      ]
     },
     "execution_count": 224,
     "metadata": {},
     "output_type": "execute_result"
    }
   ],
   "source": [
    "villagers.head(3)"
   ]
  },
  {
   "cell_type": "markdown",
   "metadata": {},
   "source": [
    "### Some questions to answer:\n",
    "\n",
    "1. What are the most expensive items? \n",
    "2. What are the least expensive items?\n",
    "3. Percent of categories of items in the game?\n",
    "4. Gender balance of characters?\n",
    "5. Personality make up of villagers?\n"
   ]
  },
  {
   "cell_type": "code",
   "execution_count": 225,
   "metadata": {
    "scrolled": false
   },
   "outputs": [
    {
     "data": {
      "image/png": "[encoded data removed]",
      "text/plain": [
       "<Figure size 720x576 with 1 Axes>"
      ]
     },
     "metadata": {},
     "output_type": "display_data"
    }
   ],
   "source": [
    "#Let's see the distribution of categories across items! \n",
    "\n",
    "plt.style.use('seaborn-white') \n",
    "items['category'].value_counts().plot(kind='bar', rot=90, figsize=(10,8))\n",
    "plt.title('Item Distribution')\n",
    "plt.ylabel('Count')\n",
    "plt.xlabel('Category')\n",
    "plt.box(False) #remove box\n",
    "plt.show()"
   ]
  },
  {
   "cell_type": "code",
   "execution_count": 226,
   "metadata": {},
   "outputs": [],
   "source": [
    "#Makes sense that there are over 1,000 furniture items! One of the biggest appeal \n",
    "#in Animal Crossing is home decor customization.\n"
   ]
  },
  {
   "cell_type": "code",
   "execution_count": 227,
   "metadata": {},
   "outputs": [
    {
     "data": {
      "text/html": [
       "<div>\n",
       "<style scoped>\n",
       "    .dataframe tbody tr th:only-of-type {\n",
       "        vertical-align: middle;\n",
       "    }\n",
       "\n",
       "    .dataframe tbody tr th {\n",
       "        vertical-align: top;\n",
       "    }\n",
       "\n",
       "    .dataframe thead th {\n",
       "        text-align: right;\n",
       "    }\n",
       "</style>\n",
       "<table border=\"1\" class=\"dataframe\">\n",
       "  <thead>\n",
       "    <tr style=\"text-align: right;\">\n",
       "      <th></th>\n",
       "      <th>num_id</th>\n",
       "      <th>id</th>\n",
       "      <th>name</th>\n",
       "      <th>category</th>\n",
       "      <th>orderable</th>\n",
       "      <th>sell_value</th>\n",
       "      <th>sell_currency</th>\n",
       "      <th>buy_value</th>\n",
       "      <th>buy_currency</th>\n",
       "      <th>sources</th>\n",
       "      <th>customizable</th>\n",
       "      <th>recipe</th>\n",
       "      <th>recipe_id</th>\n",
       "      <th>games_id</th>\n",
       "      <th>id_full</th>\n",
       "      <th>image_url</th>\n",
       "    </tr>\n",
       "  </thead>\n",
       "  <tbody>\n",
       "    <tr>\n",
       "      <th>5</th>\n",
       "      <td>21</td>\n",
       "      <td>accessories-stand</td>\n",
       "      <td>Accessories Stand</td>\n",
       "      <td>Furniture</td>\n",
       "      <td>True</td>\n",
       "      <td>375.0</td>\n",
       "      <td>bells</td>\n",
       "      <td>1500.0</td>\n",
       "      <td>bells</td>\n",
       "      <td>Nook's Cranny</td>\n",
       "      <td>False</td>\n",
       "      <td>NaN</td>\n",
       "      <td>NaN</td>\n",
       "      <td>nh</td>\n",
       "      <td>item-accessories-stand</td>\n",
       "      <td>https://villagerdb.com/images/items/thumb/acce...</td>\n",
       "    </tr>\n",
       "    <tr>\n",
       "      <th>8</th>\n",
       "      <td>26</td>\n",
       "      <td>acnh-nintendo-switch</td>\n",
       "      <td>Acnh Nintendo Switch</td>\n",
       "      <td>Furniture</td>\n",
       "      <td>True</td>\n",
       "      <td>8990.0</td>\n",
       "      <td>bells</td>\n",
       "      <td>35960.0</td>\n",
       "      <td>bells</td>\n",
       "      <td>Receive in mail if playing on ACNH Switch</td>\n",
       "      <td>False</td>\n",
       "      <td>NaN</td>\n",
       "      <td>NaN</td>\n",
       "      <td>nh</td>\n",
       "      <td>item-acnh-nintendo-switch</td>\n",
       "      <td>https://villagerdb.com/images/items/thumb/acnh...</td>\n",
       "    </tr>\n",
       "    <tr>\n",
       "      <th>9</th>\n",
       "      <td>26</td>\n",
       "      <td>acnh-nintendo-switch</td>\n",
       "      <td>Acnh Nintendo Switch</td>\n",
       "      <td>Furniture</td>\n",
       "      <td>True</td>\n",
       "      <td>8990.0</td>\n",
       "      <td>bells</td>\n",
       "      <td>35960.0</td>\n",
       "      <td>bells</td>\n",
       "      <td>Nook Shopping</td>\n",
       "      <td>False</td>\n",
       "      <td>NaN</td>\n",
       "      <td>NaN</td>\n",
       "      <td>nh</td>\n",
       "      <td>item-acnh-nintendo-switch</td>\n",
       "      <td>https://villagerdb.com/images/items/thumb/acnh...</td>\n",
       "    </tr>\n",
       "    <tr>\n",
       "      <th>13</th>\n",
       "      <td>31</td>\n",
       "      <td>acoustic-guitar</td>\n",
       "      <td>Acoustic Guitar</td>\n",
       "      <td>Furniture</td>\n",
       "      <td>NaN</td>\n",
       "      <td>3210.0</td>\n",
       "      <td>bells</td>\n",
       "      <td>12840.0</td>\n",
       "      <td>bells</td>\n",
       "      <td>NaN</td>\n",
       "      <td>True</td>\n",
       "      <td>8.0</td>\n",
       "      <td>softwood</td>\n",
       "      <td>nh</td>\n",
       "      <td>item-acoustic-guitar</td>\n",
       "      <td>https://villagerdb.com/images/items/thumb/acou...</td>\n",
       "    </tr>\n",
       "    <tr>\n",
       "      <th>14</th>\n",
       "      <td>31</td>\n",
       "      <td>acoustic-guitar</td>\n",
       "      <td>Acoustic Guitar</td>\n",
       "      <td>Furniture</td>\n",
       "      <td>NaN</td>\n",
       "      <td>3210.0</td>\n",
       "      <td>bells</td>\n",
       "      <td>12840.0</td>\n",
       "      <td>bells</td>\n",
       "      <td>NaN</td>\n",
       "      <td>True</td>\n",
       "      <td>3.0</td>\n",
       "      <td>iron-nugget</td>\n",
       "      <td>nh</td>\n",
       "      <td>item-acoustic-guitar</td>\n",
       "      <td>https://villagerdb.com/images/items/thumb/acou...</td>\n",
       "    </tr>\n",
       "  </tbody>\n",
       "</table>\n",
       "</div>"
      ],
      "text/plain": [
       "    num_id                    id                  name   category orderable  \\\n",
       "5       21     accessories-stand     Accessories Stand  Furniture      True   \n",
       "8       26  acnh-nintendo-switch  Acnh Nintendo Switch  Furniture      True   \n",
       "9       26  acnh-nintendo-switch  Acnh Nintendo Switch  Furniture      True   \n",
       "13      31       acoustic-guitar       Acoustic Guitar  Furniture       NaN   \n",
       "14      31       acoustic-guitar       Acoustic Guitar  Furniture       NaN   \n",
       "\n",
       "    sell_value sell_currency  buy_value buy_currency  \\\n",
       "5        375.0         bells     1500.0        bells   \n",
       "8       8990.0         bells    35960.0        bells   \n",
       "9       8990.0         bells    35960.0        bells   \n",
       "13      3210.0         bells    12840.0        bells   \n",
       "14      3210.0         bells    12840.0        bells   \n",
       "\n",
       "                                      sources customizable  recipe  \\\n",
       "5                               Nook's Cranny        False     NaN   \n",
       "8   Receive in mail if playing on ACNH Switch        False     NaN   \n",
       "9                               Nook Shopping        False     NaN   \n",
       "13                                        NaN         True     8.0   \n",
       "14                                        NaN         True     3.0   \n",
       "\n",
       "      recipe_id games_id                    id_full  \\\n",
       "5           NaN       nh     item-accessories-stand   \n",
       "8           NaN       nh  item-acnh-nintendo-switch   \n",
       "9           NaN       nh  item-acnh-nintendo-switch   \n",
       "13     softwood       nh       item-acoustic-guitar   \n",
       "14  iron-nugget       nh       item-acoustic-guitar   \n",
       "\n",
       "                                            image_url  \n",
       "5   https://villagerdb.com/images/items/thumb/acce...  \n",
       "8   https://villagerdb.com/images/items/thumb/acnh...  \n",
       "9   https://villagerdb.com/images/items/thumb/acnh...  \n",
       "13  https://villagerdb.com/images/items/thumb/acou...  \n",
       "14  https://villagerdb.com/images/items/thumb/acou...  "
      ]
     },
     "execution_count": 227,
     "metadata": {},
     "output_type": "execute_result"
    }
   ],
   "source": [
    "#exploring the furnitures\n",
    "furniture = items['category'] == 'Furniture'\n",
    "items[furniture].head()"
   ]
  },
  {
   "cell_type": "code",
   "execution_count": 228,
   "metadata": {},
   "outputs": [
    {
     "data": {
      "text/plain": [
       "1200000.0"
      ]
     },
     "execution_count": 228,
     "metadata": {},
     "output_type": "execute_result"
    }
   ],
   "source": [
    "items['buy_value'].max()"
   ]
  },
  {
   "cell_type": "code",
   "execution_count": 229,
   "metadata": {},
   "outputs": [],
   "source": [
    "pricey = items['sell_value'] == items['sell_value'].max()"
   ]
  },
  {
   "cell_type": "code",
   "execution_count": 230,
   "metadata": {},
   "outputs": [
    {
     "data": {
      "text/html": [
       "<div>\n",
       "<style scoped>\n",
       "    .dataframe tbody tr th:only-of-type {\n",
       "        vertical-align: middle;\n",
       "    }\n",
       "\n",
       "    .dataframe tbody tr th {\n",
       "        vertical-align: top;\n",
       "    }\n",
       "\n",
       "    .dataframe thead th {\n",
       "        text-align: right;\n",
       "    }\n",
       "</style>\n",
       "<table border=\"1\" class=\"dataframe\">\n",
       "  <thead>\n",
       "    <tr style=\"text-align: right;\">\n",
       "      <th></th>\n",
       "      <th>name</th>\n",
       "      <th>category</th>\n",
       "      <th>sell_value</th>\n",
       "      <th>buy_value</th>\n",
       "    </tr>\n",
       "  </thead>\n",
       "  <tbody>\n",
       "    <tr>\n",
       "      <th>3453</th>\n",
       "      <td>Royal Crown</td>\n",
       "      <td>Hats</td>\n",
       "      <td>300000.0</td>\n",
       "      <td>1200000.0</td>\n",
       "    </tr>\n",
       "  </tbody>\n",
       "</table>\n",
       "</div>"
      ],
      "text/plain": [
       "             name category  sell_value  buy_value\n",
       "3453  Royal Crown     Hats    300000.0  1200000.0"
      ]
     },
     "execution_count": 230,
     "metadata": {},
     "output_type": "execute_result"
    }
   ],
   "source": [
    "items[pricey][['name', 'category', 'sell_value', 'buy_value']]"
   ]
  },
  {
   "cell_type": "code",
   "execution_count": 231,
   "metadata": {},
   "outputs": [],
   "source": [
    "#Seems like the most expensive item to buy and/or sell is the Royal Crown! \n"
   ]
  },
  {
   "cell_type": "code",
   "execution_count": 232,
   "metadata": {},
   "outputs": [],
   "source": [
    "# import matplotlib, random\n",
    "\n",
    "# hex_colors_dic = {}\n",
    "# rgb_colors_dic = {}\n",
    "# hex_colors_only = []\n",
    "# for name, hex in matplotlib.colors.cnames.items():\n",
    "#     hex_colors_only.append(hex)\n",
    "#     hex_colors_dic[name] = hex\n",
    "#     rgb_colors_dic[name] = matplotlib.colors.to_rgb(hex)\n",
    "\n",
    "# print(hex_colors_only)\n",
    "\n",
    "# # getting random color from list of hex colors\n",
    "\n",
    "# print(random.choice(hex_colors_only))"
   ]
  },
  {
   "cell_type": "code",
   "execution_count": 233,
   "metadata": {},
   "outputs": [
    {
     "data": {
      "image/png": "[encoded data removed]",
      "text/plain": [
       "<Figure size 576x432 with 1 Axes>"
      ]
     },
     "metadata": {},
     "output_type": "display_data"
    }
   ],
   "source": [
    "items[['name', 'buy_value']].set_index('name').sort_values('buy_value', ascending = False).head(10).plot(kind='bar', figsize=(8,6), legend=None, color='#CD853F')\n",
    "plt.title('Ten Most Expensive Items')\n",
    "plt.ylabel('Bells in Millions')\n",
    "plt.xlabel('')\n",
    "plt.box(False) #remove box\n",
    "\n",
    "\n",
    "\n",
    "\n",
    "plt.show()"
   ]
  },
  {
   "cell_type": "code",
   "execution_count": 234,
   "metadata": {},
   "outputs": [],
   "source": [
    "#The top 10 most expensive items all have luxurious names! And of course, the golden toilet."
   ]
  },
  {
   "cell_type": "code",
   "execution_count": 235,
   "metadata": {},
   "outputs": [],
   "source": [
    "cheapy = items['buy_value'] == items['buy_value'].min()"
   ]
  },
  {
   "cell_type": "code",
   "execution_count": 236,
   "metadata": {
    "scrolled": true
   },
   "outputs": [
    {
     "data": {
      "text/html": [
       "<div>\n",
       "<style scoped>\n",
       "    .dataframe tbody tr th:only-of-type {\n",
       "        vertical-align: middle;\n",
       "    }\n",
       "\n",
       "    .dataframe tbody tr th {\n",
       "        vertical-align: top;\n",
       "    }\n",
       "\n",
       "    .dataframe thead th {\n",
       "        text-align: right;\n",
       "    }\n",
       "</style>\n",
       "<table border=\"1\" class=\"dataframe\">\n",
       "  <thead>\n",
       "    <tr style=\"text-align: right;\">\n",
       "      <th></th>\n",
       "      <th>sell_value</th>\n",
       "      <th>buy_value</th>\n",
       "    </tr>\n",
       "    <tr>\n",
       "      <th>category</th>\n",
       "      <th></th>\n",
       "      <th></th>\n",
       "    </tr>\n",
       "  </thead>\n",
       "  <tbody>\n",
       "    <tr>\n",
       "      <th>Accessories</th>\n",
       "      <td>10.0</td>\n",
       "      <td>40.0</td>\n",
       "    </tr>\n",
       "    <tr>\n",
       "      <th>Bottoms</th>\n",
       "      <td>10.0</td>\n",
       "      <td>40.0</td>\n",
       "    </tr>\n",
       "    <tr>\n",
       "      <th>Bugs</th>\n",
       "      <td>10.0</td>\n",
       "      <td>40.0</td>\n",
       "    </tr>\n",
       "    <tr>\n",
       "      <th>Dresses</th>\n",
       "      <td>10.0</td>\n",
       "      <td>40.0</td>\n",
       "    </tr>\n",
       "    <tr>\n",
       "      <th>Furniture</th>\n",
       "      <td>10.0</td>\n",
       "      <td>40.0</td>\n",
       "    </tr>\n",
       "    <tr>\n",
       "      <th>Photos</th>\n",
       "      <td>10.0</td>\n",
       "      <td>40.0</td>\n",
       "    </tr>\n",
       "    <tr>\n",
       "      <th>Socks</th>\n",
       "      <td>10.0</td>\n",
       "      <td>40.0</td>\n",
       "    </tr>\n",
       "    <tr>\n",
       "      <th>Tops</th>\n",
       "      <td>10.0</td>\n",
       "      <td>40.0</td>\n",
       "    </tr>\n",
       "  </tbody>\n",
       "</table>\n",
       "</div>"
      ],
      "text/plain": [
       "             sell_value  buy_value\n",
       "category                          \n",
       "Accessories        10.0       40.0\n",
       "Bottoms            10.0       40.0\n",
       "Bugs               10.0       40.0\n",
       "Dresses            10.0       40.0\n",
       "Furniture          10.0       40.0\n",
       "Photos             10.0       40.0\n",
       "Socks              10.0       40.0\n",
       "Tops               10.0       40.0"
      ]
     },
     "execution_count": 236,
     "metadata": {},
     "output_type": "execute_result"
    }
   ],
   "source": [
    "items[cheapy][['name', 'category', 'sell_value', 'buy_value']].groupby('category').mean()"
   ]
  },
  {
   "cell_type": "code",
   "execution_count": 237,
   "metadata": {},
   "outputs": [],
   "source": [
    "#The cheapest items to buy are photos! "
   ]
  },
  {
   "cell_type": "code",
   "execution_count": 238,
   "metadata": {},
   "outputs": [],
   "source": [
    "cheap = items['sell_value'] == items['sell_value'].min()"
   ]
  },
  {
   "cell_type": "code",
   "execution_count": 239,
   "metadata": {},
   "outputs": [
    {
     "data": {
      "text/html": [
       "<div>\n",
       "<style scoped>\n",
       "    .dataframe tbody tr th:only-of-type {\n",
       "        vertical-align: middle;\n",
       "    }\n",
       "\n",
       "    .dataframe tbody tr th {\n",
       "        vertical-align: top;\n",
       "    }\n",
       "\n",
       "    .dataframe thead th {\n",
       "        text-align: right;\n",
       "    }\n",
       "</style>\n",
       "<table border=\"1\" class=\"dataframe\">\n",
       "  <thead>\n",
       "    <tr style=\"text-align: right;\">\n",
       "      <th></th>\n",
       "      <th>name</th>\n",
       "      <th>category</th>\n",
       "      <th>sell_value</th>\n",
       "      <th>buy_value</th>\n",
       "    </tr>\n",
       "  </thead>\n",
       "  <tbody>\n",
       "    <tr>\n",
       "      <th>4156</th>\n",
       "      <td>Tree Branch</td>\n",
       "      <td>Usables</td>\n",
       "      <td>5.0</td>\n",
       "      <td>NaN</td>\n",
       "    </tr>\n",
       "    <tr>\n",
       "      <th>4157</th>\n",
       "      <td>Tree Branch</td>\n",
       "      <td>Usables</td>\n",
       "      <td>5.0</td>\n",
       "      <td>NaN</td>\n",
       "    </tr>\n",
       "  </tbody>\n",
       "</table>\n",
       "</div>"
      ],
      "text/plain": [
       "             name category  sell_value  buy_value\n",
       "4156  Tree Branch  Usables         5.0        NaN\n",
       "4157  Tree Branch  Usables         5.0        NaN"
      ]
     },
     "execution_count": 239,
     "metadata": {},
     "output_type": "execute_result"
    }
   ],
   "source": [
    "items[cheap][['name', 'category', 'sell_value', 'buy_value']]"
   ]
  },
  {
   "cell_type": "code",
   "execution_count": 240,
   "metadata": {},
   "outputs": [],
   "source": [
    "#The least profitable items to sell are tree branches, but hey at least they're worth something!"
   ]
  },
  {
   "cell_type": "markdown",
   "metadata": {},
   "source": [
    "Let's take a look at the villagers! "
   ]
  },
  {
   "cell_type": "code",
   "execution_count": 241,
   "metadata": {},
   "outputs": [
    {
     "data": {
      "text/plain": [
       "Index(['row_n', 'id', 'name', 'gender', 'species', 'birthday', 'personality',\n",
       "       'song', 'phrase', 'full_id', 'url'],\n",
       "      dtype='object')"
      ]
     },
     "execution_count": 241,
     "metadata": {},
     "output_type": "execute_result"
    }
   ],
   "source": [
    "villagers.columns"
   ]
  },
  {
   "cell_type": "code",
   "execution_count": 242,
   "metadata": {},
   "outputs": [
    {
     "data": {
      "text/plain": [
       "male      0.521739\n",
       "female    0.478261\n",
       "Name: gender, dtype: float64"
      ]
     },
     "execution_count": 242,
     "metadata": {},
     "output_type": "execute_result"
    }
   ],
   "source": [
    "villagers['gender'].value_counts(normalize=True)"
   ]
  },
  {
   "cell_type": "code",
   "execution_count": 243,
   "metadata": {},
   "outputs": [],
   "source": [
    "#Male and Female character distribution is about even"
   ]
  },
  {
   "cell_type": "code",
   "execution_count": 244,
   "metadata": {},
   "outputs": [
    {
     "data": {
      "text/plain": [
       "35"
      ]
     },
     "execution_count": 244,
     "metadata": {},
     "output_type": "execute_result"
    }
   ],
   "source": [
    "villagers['species'].nunique()  #There are 35 different species in Animal Crossing"
   ]
  },
  {
   "cell_type": "code",
   "execution_count": 251,
   "metadata": {},
   "outputs": [
    {
     "data": {
      "image/png": "[encoded data removed]",
      "text/plain": [
       "<Figure size 720x576 with 1 Axes>"
      ]
     },
     "metadata": {},
     "output_type": "display_data"
    }
   ],
   "source": [
    "villagers['species'].value_counts().plot(kind='bar', color = '#66CDAA', figsize=(10,8))\n",
    "plt.title('Species Distribution')\n",
    "plt.ylabel('Count')\n",
    "plt.xlabel('')\n",
    "plt.box(False) #remove box\n",
    "plt.show()"
   ]
  },
  {
   "cell_type": "code",
   "execution_count": 246,
   "metadata": {},
   "outputs": [],
   "source": [
    "#cats and rabbits dominate the village! "
   ]
  },
  {
   "cell_type": "code",
   "execution_count": 247,
   "metadata": {},
   "outputs": [],
   "source": [
    "personalities = ['cranky', 'peppy', 'uchi', 'lazy', 'normal', 'snooty', 'jock', 'smug']"
   ]
  },
  {
   "cell_type": "code",
   "execution_count": 248,
   "metadata": {},
   "outputs": [
    {
     "data": {
      "text/plain": [
       "0      cranky\n",
       "1       peppy\n",
       "2        uchi\n",
       "3        lazy\n",
       "4        lazy\n",
       "        ...  \n",
       "386     peppy\n",
       "387    cranky\n",
       "388    snooty\n",
       "389      smug\n",
       "390      lazy\n",
       "Name: personality, Length: 391, dtype: object"
      ]
     },
     "execution_count": 248,
     "metadata": {},
     "output_type": "execute_result"
    }
   ],
   "source": [
    "villagers['personality']"
   ]
  },
  {
   "cell_type": "code",
   "execution_count": 269,
   "metadata": {},
   "outputs": [],
   "source": [
    "cranky = villagers['personality'] == 'cranky'\n",
    "peppy = villagers['personality'] == 'peppy'\n",
    "uchi = villagers['personality'] == 'uchi'\n",
    "lazy = villagers['personality'] == 'lazy'\n",
    "normal = villagers['personality'] == 'normal'\n",
    "snooty = villagers['personality'] == 'snooty'\n",
    "jock = villagers['personality'] == 'jock'\n",
    "smug = villagers['personality'] == 'smug'"
   ]
  },
  {
   "cell_type": "code",
   "execution_count": 283,
   "metadata": {
    "scrolled": true
   },
   "outputs": [
    {
     "data": {
      "text/plain": [
       "wolf         5\n",
       "bear         5\n",
       "eagle        4\n",
       "bull         3\n",
       "gorilla      3\n",
       "frog         3\n",
       "cat          2\n",
       "hippo        2\n",
       "kangaroo     2\n",
       "pig          2\n",
       "cub          2\n",
       "squirrel     2\n",
       "mouse        2\n",
       "horse        1\n",
       "tiger        1\n",
       "dog          1\n",
       "lion         1\n",
       "monkey       1\n",
       "octopus      1\n",
       "deer         1\n",
       "bird         1\n",
       "alligator    1\n",
       "rabbit       1\n",
       "chicken      1\n",
       "rhino        1\n",
       "penguin      1\n",
       "hamster      1\n",
       "elephant     1\n",
       "goat         1\n",
       "anteater     1\n",
       "koala        1\n",
       "Name: species, dtype: int64"
      ]
     },
     "execution_count": 283,
     "metadata": {},
     "output_type": "execute_result"
    }
   ],
   "source": [
    "villagers[cranky]['species'].value_counts()"
   ]
  },
  {
   "cell_type": "code",
   "execution_count": 280,
   "metadata": {
    "scrolled": true
   },
   "outputs": [
    {
     "data": {
      "text/plain": [
       "squirrel     5\n",
       "cub          4\n",
       "elephant     3\n",
       "pig          3\n",
       "cat          3\n",
       "kangaroo     3\n",
       "koala        3\n",
       "sheep        3\n",
       "dog          3\n",
       "mouse        2\n",
       "goat         2\n",
       "rhino        2\n",
       "duck         2\n",
       "horse        2\n",
       "ostrich      2\n",
       "frog         2\n",
       "hippo        1\n",
       "monkey       1\n",
       "octopus      1\n",
       "deer         1\n",
       "bird         1\n",
       "alligator    1\n",
       "eagle        1\n",
       "rabbit       1\n",
       "hamster      1\n",
       "penguin      1\n",
       "wolf         1\n",
       "anteater     1\n",
       "chicken      1\n",
       "cow          1\n",
       "bear         1\n",
       "Name: species, dtype: int64"
      ]
     },
     "execution_count": 280,
     "metadata": {},
     "output_type": "execute_result"
    }
   ],
   "source": [
    "villagers[normal]['species'].value_counts()"
   ]
  },
  {
   "cell_type": "code",
   "execution_count": 286,
   "metadata": {
    "scrolled": false
   },
   "outputs": [
    {
     "data": {
      "image/png": "[encoded data removed]",
      "text/plain": [
       "<Figure size 432x288 with 1 Axes>"
      ]
     },
     "metadata": {},
     "output_type": "display_data"
    }
   ],
   "source": [
    "villagers[lazy]['species'].value_counts().plot(kind='bar')\n",
    "plt.show()"
   ]
  },
  {
   "cell_type": "code",
   "execution_count": 297,
   "metadata": {},
   "outputs": [
    {
     "name": "stderr",
     "output_type": "stream",
     "text": [
      "<ipython-input-297-80e066545063>:1: UserWarning: Boolean Series key will be reindexed to match DataFrame index.\n",
      "  villagers[lazy][villagers['species'] == 'dog']['name']\n"
     ]
    },
    {
     "data": {
      "text/plain": [
       "34     Benjamin\n",
       "42       Biskit\n",
       "49        Bones\n",
       "215       Lucky\n",
       "224      Marcel\n",
       "379      Walker\n",
       "Name: name, dtype: object"
      ]
     },
     "execution_count": 297,
     "metadata": {},
     "output_type": "execute_result"
    }
   ],
   "source": [
    "#Looks like dogs are the laziest characters! Here are the 6! \n",
    "\n",
    "villagers[lazy][villagers['species'] == 'dog']['name']"
   ]
  },
  {
   "cell_type": "code",
   "execution_count": 288,
   "metadata": {
    "scrolled": true
   },
   "outputs": [
    {
     "data": {
      "image/png": "[encoded data removed]",
      "text/plain": [
       "<Figure size 432x288 with 1 Axes>"
      ]
     },
     "metadata": {},
     "output_type": "display_data"
    }
   ],
   "source": [
    "villagers[jock]['species'].value_counts().plot(kind='bar')\n",
    "plt.show()"
   ]
  },
  {
   "cell_type": "code",
   "execution_count": 299,
   "metadata": {},
   "outputs": [
    {
     "name": "stderr",
     "output_type": "stream",
     "text": [
      "<ipython-input-299-8b4f9bee47c8>:2: UserWarning: Boolean Series key will be reindexed to match DataFrame index.\n",
      "  villagers[jock][villagers['species'] == 'frog']['name']\n"
     ]
    },
    {
     "data": {
      "text/plain": [
       "96     Cousteau\n",
       "121       Drift\n",
       "146     Frobert\n",
       "303      Ribbot\n",
       "352         Tad\n",
       "Name: name, dtype: object"
      ]
     },
     "execution_count": 299,
     "metadata": {},
     "output_type": "execute_result"
    }
   ],
   "source": [
    "#And it seems like frogs are the jockiest? Here are the 5! \n",
    "villagers[jock][villagers['species'] == 'frog']['name']"
   ]
  },
  {
   "cell_type": "code",
   "execution_count": 279,
   "metadata": {
    "scrolled": true
   },
   "outputs": [
    {
     "data": {
      "text/plain": [
       "cat          5\n",
       "squirrel     4\n",
       "duck         4\n",
       "sheep        4\n",
       "ostrich      3\n",
       "wolf         3\n",
       "elephant     2\n",
       "horse        2\n",
       "chicken      2\n",
       "rabbit       2\n",
       "cow          2\n",
       "mouse        2\n",
       "penguin      2\n",
       "kangaroo     2\n",
       "hamster      1\n",
       "deer         1\n",
       "bird         1\n",
       "monkey       1\n",
       "alligator    1\n",
       "hippo        1\n",
       "cub          1\n",
       "anteater     1\n",
       "frog         1\n",
       "tiger        1\n",
       "eagle        1\n",
       "pig          1\n",
       "gorilla      1\n",
       "goat         1\n",
       "dog          1\n",
       "koala        1\n",
       "Name: species, dtype: int64"
      ]
     },
     "execution_count": 279,
     "metadata": {},
     "output_type": "execute_result"
    }
   ],
   "source": [
    "villagers[snooty]['species'].value_counts()"
   ]
  },
  {
   "cell_type": "markdown",
   "metadata": {},
   "source": [
    "That's all for now! "
   ]
  }
 ],
 "metadata": {
  "kernelspec": {
   "display_name": "Python 3",
   "language": "python",
   "name": "python3"
  },
  "language_info": {
   "codemirror_mode": {
    "name": "ipython",
    "version": 3
   },
   "file_extension": ".py",
   "mimetype": "text/x-python",
   "name": "python",
   "nbconvert_exporter": "python",
   "pygments_lexer": "ipython3",
   "version": "3.8.2"
  }
 },
 "nbformat": 4,
 "nbformat_minor": 4
}
